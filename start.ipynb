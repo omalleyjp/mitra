{
 "cells": [
  {
   "cell_type": "code",
   "execution_count": 3,
   "metadata": {},
   "outputs": [],
   "source": [
    "import numpy as np\n",
    "import matplotlib.pyplot as plt\n",
    "import seaborn as sns\n",
    "import pandas as pd\n",
    "import os"
   ]
  },
  {
   "cell_type": "code",
   "execution_count": 8,
   "metadata": {},
   "outputs": [],
   "source": [
    "## combat readiness. 0 is not ready, 1 is ready. culture score, population\n",
    "# allies\n",
    "# country = culture score, population, train-time (weeks), train-intensity, train-standards\n",
    "usa = 0.35, 20300000, 0.625 , 0.85, 0.95\n",
    "japan = 0.5, 6700000, 0.125, 0.55, 0.7\n",
    "uk = 0.35, 4400000, 0.99, 0.75, 0.85\n",
    "france = 0.25, 4600000, 0.125, 0.6, 0.65\n",
    "israel = 0.8, 810000, 0.75, 0.95, 0.90\n",
    "germany = 0.35, 5800000, 0.25, 0.6, 0.75\n",
    "sk = 0.65, 3830000, 0.375, 0.85, 0.85\n",
    "# axis\n",
    "china = 0.65, 112000000, 0.25, 0.65, 0.75\n",
    "russia = 0.75, 9800000, 0.75, 0.9, 0.8\n",
    "nk = 0.5, 2300000, 0.5, 0.8, 0.5\n",
    "iran = 0.3, 8200000, 0.01, 0.65, 0.6\n",
    "# neutral\n",
    "india = 0.55, 110000000, 0.5, 0.7, 0.7"
   ]
  },
  {
   "cell_type": "code",
   "execution_count": 5,
   "metadata": {},
   "outputs": [],
   "source": [
    "countries = [\n",
    "    usa, japan, uk, france, israel, germany, sk,\n",
    "    china, russia, nk, iran, india\n",
    "]"
   ]
  },
  {
   "cell_type": "code",
   "execution_count": 13,
   "metadata": {},
   "outputs": [
    {
     "name": "stdout",
     "output_type": "stream",
     "text": [
      "0.72\n",
      "0.30\n",
      "0.56\n",
      "0.36\n",
      "0.90\n",
      "0.36\n",
      "0.72\n",
      "0.42\n",
      "0.81\n",
      "0.64\n",
      "0.42\n",
      "0.49\n"
     ]
    }
   ],
   "source": [
    "for country in countries:\n",
    "    for i in range(4):\n",
    "        net_effect = country[i] * country[i]\n",
    "        i += 1\n",
    "        \n",
    "    print(f\"{net_effect:.2f}\")"
   ]
  },
  {
   "cell_type": "code",
   "execution_count": 14,
   "metadata": {},
   "outputs": [
    {
     "name": "stdout",
     "output_type": "stream",
     "text": [
      "USA: 0.694\n",
      "Japan: 0.469\n",
      "UK: 0.738\n",
      "France: 0.406\n",
      "Israel: 0.875\n",
      "Germany: 0.487\n",
      "South Korea: 0.681\n",
      "China: 0.575\n",
      "Russia: 0.800\n",
      "North Korea: 0.575\n",
      "Iran: 0.387\n",
      "India: 0.613\n"
     ]
    }
   ],
   "source": [
    "countries = [\n",
    "    (\"USA\", 0.35, 20300000, 0.625, 0.85, 0.95),\n",
    "    (\"Japan\", 0.5, 6700000, 0.125, 0.55, 0.7),\n",
    "    (\"UK\", 0.35, 4400000, 1.0, 0.75, 0.85),\n",
    "    (\"France\", 0.25, 4600000, 0.125, 0.6, 0.65),\n",
    "    (\"Israel\", 0.8, 810000, 0.75, 1.0, 0.95),\n",
    "    (\"Germany\", 0.35, 5800000, 0.25, 0.6, 0.75),\n",
    "    (\"South Korea\", 0.65, 3830000, 0.375, 0.85, 0.85),\n",
    "    (\"China\", 0.65, 112000000, 0.25, 0.65, 0.75),\n",
    "    (\"Russia\", 0.75, 9800000, 0.75, 0.9, 0.8),\n",
    "    (\"North Korea\", 0.5, 2300000, 0.5, 0.8, 0.5),\n",
    "    (\"Iran\", 0.3, 8200000, 0.0, 0.65, 0.6),\n",
    "    (\"India\", 0.55, 110000000, 0.5, 0.7, 0.7)\n",
    "]\n",
    "\n",
    "for country in countries:\n",
    "    name, culture, pop, time, intensity, standards = country\n",
    "    net_effect = (culture + time + intensity + standards) / 4\n",
    "    print(f\"{name}: {net_effect:.3f}\")"
   ]
  },
  {
   "cell_type": "code",
   "execution_count": 15,
   "metadata": {},
   "outputs": [
    {
     "name": "stdout",
     "output_type": "stream",
     "text": [
      "USA: 14083125.00\n",
      "Japan: 3140625.00\n",
      "UK: 3245000.00\n",
      "France: 1868750.00\n",
      "Israel: 708750.00\n",
      "Germany: 2827500.00\n",
      "South Korea: 2609187.50\n",
      "China: 64400000.00\n",
      "Russia: 7840000.00\n",
      "North Korea: 1322500.00\n",
      "Iran: 3177500.00\n",
      "India: 67375000.00\n"
     ]
    }
   ],
   "source": [
    "for country in countries:\n",
    "    name, culture, pop, time, intensity, standards = country\n",
    "    net_effect = (culture + time + intensity + standards) / 4\n",
    "    might = net_effect * pop\n",
    "    print(f\"{name}: {might:.2f}\")"
   ]
  },
  {
   "cell_type": "code",
   "execution_count": null,
   "metadata": {},
   "outputs": [],
   "source": [
    "#update"
   ]
  }
 ],
 "metadata": {
  "kernelspec": {
   "display_name": "pyenv",
   "language": "python",
   "name": "python3"
  },
  "language_info": {
   "codemirror_mode": {
    "name": "ipython",
    "version": 3
   },
   "file_extension": ".py",
   "mimetype": "text/x-python",
   "name": "python",
   "nbconvert_exporter": "python",
   "pygments_lexer": "ipython3",
   "version": "3.12.3"
  }
 },
 "nbformat": 4,
 "nbformat_minor": 2
}
